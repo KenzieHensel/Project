{
  "nbformat": 4,
  "nbformat_minor": 0,
  "metadata": {
    "colab": {
      "provenance": []
    },
    "kernelspec": {
      "name": "ir",
      "display_name": "R"
    },
    "language_info": {
      "name": "R"
    }
  },
  "cells": [
    {
      "cell_type": "code",
      "execution_count": 2,
      "metadata": {
        "id": "dxbHCTaC1qaD",
        "colab": {
          "base_uri": "https://localhost:8080/"
        },
        "outputId": "735e8a3c-955e-4a07-a118-f0a385064773"
      },
      "outputs": [
        {
          "output_type": "stream",
          "name": "stderr",
          "text": [
            "Installing package into ‘/usr/local/lib/R/site-library’\n",
            "(as ‘lib’ is unspecified)\n",
            "\n",
            "Installing package into ‘/usr/local/lib/R/site-library’\n",
            "(as ‘lib’ is unspecified)\n",
            "\n",
            "Loading required package: Matrix\n",
            "\n",
            "\n",
            "Attaching package: ‘arules’\n",
            "\n",
            "\n",
            "The following objects are masked from ‘package:base’:\n",
            "\n",
            "    abbreviate, write\n",
            "\n",
            "\n",
            "\n",
            "Attaching package: ‘dplyr’\n",
            "\n",
            "\n",
            "The following objects are masked from ‘package:arules’:\n",
            "\n",
            "    intersect, recode, setdiff, setequal, union\n",
            "\n",
            "\n",
            "The following objects are masked from ‘package:stats’:\n",
            "\n",
            "    filter, lag\n",
            "\n",
            "\n",
            "The following objects are masked from ‘package:base’:\n",
            "\n",
            "    intersect, setdiff, setequal, union\n",
            "\n",
            "\n"
          ]
        }
      ],
      "source": [
        "#Installing necessary packagesinstall.packages(\"arules\")\n",
        "install.packages(\"dplyr\")\n",
        "\n",
        "#Loading the libraries\n",
        "library(arules)\n",
        "library(dplyr)\n"
      ]
    },
    {
      "cell_type": "code",
      "source": [
        "#Loading my dataset\n",
        "game_data <- read.csv(\"/content/game_details_copy.csv\", stringsAsFactors = FALSE)\n",
        "\n",
        "#Cleaning up the categories column by removing {, }, [, ], '\n",
        "game_data$categories <- gsub(\"[\\\\{\\\\}\\\\[\\\\]]\", \"\", game_data$categories)\n",
        "game_data$categories <- gsub(\"'\", \"\", game_data$categories)\n",
        "game_data$categories <- gsub(\"\\\\[|\\\\]\", \"\", game_data$categories)\n",
        "\n",
        "\n",
        "\n",
        "#Viewing the first few rows of the cleaned dataset\n",
        "head(game_data$categories)\n"
      ],
      "metadata": {
        "id": "Nx3vU4YXANUM",
        "colab": {
          "base_uri": "https://localhost:8080/",
          "height": 52
        },
        "outputId": "f51c7f7c-3420-44e2-f787-1b5e88fa1d02"
      },
      "execution_count": 29,
      "outputs": [
        {
          "output_type": "display_data",
          "data": {
            "text/html": [
              "<style>\n",
              ".list-inline {list-style: none; margin:0; padding: 0}\n",
              ".list-inline>li {display: inline-block}\n",
              ".list-inline>li:not(:last-child)::after {content: \"\\00b7\"; padding: 0 .5ex}\n",
              "</style>\n",
              "<ol class=list-inline><li>'Economic, Negotiation'</li><li>'Medieval, Territory Building'</li><li>'Medical'</li><li>'Ancient, Card Game, City Building, Civilization, Economic'</li><li>'Economic, Environmental, Industry / Manufacturing, Science Fiction, Space Exploration, Territory Building'</li><li>'Ancient, Card Game, City Building, Civilization, Economic'</li></ol>\n"
            ],
            "text/markdown": "1. 'Economic, Negotiation'\n2. 'Medieval, Territory Building'\n3. 'Medical'\n4. 'Ancient, Card Game, City Building, Civilization, Economic'\n5. 'Economic, Environmental, Industry / Manufacturing, Science Fiction, Space Exploration, Territory Building'\n6. 'Ancient, Card Game, City Building, Civilization, Economic'\n\n\n",
            "text/latex": "\\begin{enumerate*}\n\\item 'Economic, Negotiation'\n\\item 'Medieval, Territory Building'\n\\item 'Medical'\n\\item 'Ancient, Card Game, City Building, Civilization, Economic'\n\\item 'Economic, Environmental, Industry / Manufacturing, Science Fiction, Space Exploration, Territory Building'\n\\item 'Ancient, Card Game, City Building, Civilization, Economic'\n\\end{enumerate*}\n",
            "text/plain": [
              "[1] \"Economic, Negotiation\"                                                                                    \n",
              "[2] \"Medieval, Territory Building\"                                                                             \n",
              "[3] \"Medical\"                                                                                                  \n",
              "[4] \"Ancient, Card Game, City Building, Civilization, Economic\"                                                \n",
              "[5] \"Economic, Environmental, Industry / Manufacturing, Science Fiction, Space Exploration, Territory Building\"\n",
              "[6] \"Ancient, Card Game, City Building, Civilization, Economic\"                                                "
            ]
          },
          "metadata": {}
        }
      ]
    },
    {
      "cell_type": "code",
      "source": [
        "#Separateing the categories column into basket data\n",
        "#Splitting the categories by comma and creating a list of transactions\n",
        "basket_data <- strsplit(game_data$categories, \", \")\n",
        "\n",
        "#Creating a transaction object\n",
        "basket_transactions <- as(basket_data, \"transactions\")\n"
      ],
      "metadata": {
        "id": "hj1EWr3CAQz3"
      },
      "execution_count": 30,
      "outputs": []
    },
    {
      "cell_type": "code",
      "source": [
        "#Inspecting the basket data\n",
        "inspect(head(basket_transactions, 5))\n"
      ],
      "metadata": {
        "colab": {
          "base_uri": "https://localhost:8080/"
        },
        "id": "6zEP2gNhATho",
        "outputId": "aaf6c649-4f91-4d66-c1e5-ca337116eba3"
      },
      "execution_count": 31,
      "outputs": [
        {
          "output_type": "stream",
          "name": "stdout",
          "text": [
            "    items                      \n",
            "[1] {Economic,                 \n",
            "     Negotiation}              \n",
            "[2] {Medieval,                 \n",
            "     Territory Building}       \n",
            "[3] {Medical}                  \n",
            "[4] {Ancient,                  \n",
            "     Card Game,                \n",
            "     City Building,            \n",
            "     Civilization,             \n",
            "     Economic}                 \n",
            "[5] {Economic,                 \n",
            "     Environmental,            \n",
            "     Industry / Manufacturing, \n",
            "     Science Fiction,          \n",
            "     Space Exploration,        \n",
            "     Territory Building}       \n"
          ]
        }
      ]
    },
    {
      "cell_type": "code",
      "source": [
        "#Generating association rules with a minimum support and confidence\n",
        "rules <- apriori(basket_transactions,\n",
        "                 parameter = list(supp = 0.01, conf = 0.6))\n",
        "\n",
        "#Inspecting the generated rules\n",
        "inspect(rules)"
      ],
      "metadata": {
        "colab": {
          "base_uri": "https://localhost:8080/"
        },
        "id": "B1lZpdz5AWQa",
        "outputId": "bf5b83da-0b8a-4e23-cc2a-1c0ba50e1727"
      },
      "execution_count": 32,
      "outputs": [
        {
          "output_type": "stream",
          "name": "stdout",
          "text": [
            "Apriori\n",
            "\n",
            "Parameter specification:\n",
            " confidence minval smax arem  aval originalSupport maxtime support minlen\n",
            "        0.6    0.1    1 none FALSE            TRUE       5    0.01      1\n",
            " maxlen target  ext\n",
            "     10  rules TRUE\n",
            "\n",
            "Algorithmic control:\n",
            " filter tree heap memopt load sort verbose\n",
            "    0.1 TRUE TRUE  FALSE TRUE    2    TRUE\n",
            "\n",
            "Absolute minimum support count: 30 \n",
            "\n",
            "set item appearances ...[0 item(s)] done [0.00s].\n",
            "set transactions ...[82 item(s), 3000 transaction(s)] done [0.00s].\n",
            "sorting and recoding items ... [59 item(s)] done [0.00s].\n",
            "creating transaction tree ... done [0.00s].\n",
            "checking subsets of size 1 2 3 4 5 done [0.00s].\n",
            "writing ... [66 rule(s)] done [0.00s].\n",
            "creating S4 object  ... done [0.00s].\n",
            "     lhs                           rhs                  support confidence   coverage      lift count\n",
            "[1]  {World War II}             => {Wargame}         0.01233333  0.7708333 0.01600000 11.562500    37\n",
            "[2]  {Word Game}                => {Party Game}      0.01133333  0.7555556 0.01500000 10.445469    34\n",
            "[3]  {Comic Book / Strip}       => {Card Game}       0.01400000  0.7777778 0.01800000  2.592593    42\n",
            "[4]  {Print & Play}             => {Card Game}       0.01100000  0.7021277 0.01566667  2.340426    33\n",
            "[5]  {Zombies}                  => {Horror}          0.01100000  0.7333333 0.01500000 12.087912    33\n",
            "[6]  {Collectible Components}   => {Card Game}       0.01066667  0.6400000 0.01666667  2.133333    32\n",
            "[7]  {Murder/Mystery}           => {Deduction}       0.01600000  0.7500000 0.02133333 11.138614    48\n",
            "[8]  {Industry / Manufacturing} => {Economic}        0.02933333  0.7040000 0.04166667  5.052632    88\n",
            "[9]  {Space Exploration}        => {Science Fiction} 0.03100000  0.9393939 0.03300000  8.288770    93\n",
            "[10] {Humor}                    => {Card Game}       0.03466667  0.6979866 0.04966667  2.326622   104\n",
            "[11] {Miniatures}               => {Fighting}        0.04766667  0.6412556 0.07433333  4.412309   143\n",
            "[12] {Adventure}                => {Fantasy}         0.06366667  0.6345515 0.10033333  3.045847   191\n",
            "[13] {Fighting}                 => {Fantasy}         0.08733333  0.6009174 0.14533333  2.884404   262\n",
            "[14] {Humor,                                                                                         \n",
            "      Party Game}               => {Card Game}       0.01366667  0.6406250 0.02133333  2.135417    41\n",
            "[15] {Adventure,                                                                                     \n",
            "      Novel-based}              => {Fighting}        0.01200000  0.6666667 0.01800000  4.587156    36\n",
            "[16] {Fighting,                                                                                      \n",
            "      Novel-based}              => {Adventure}       0.01200000  0.6792453 0.01766667  6.769887    36\n",
            "[17] {Adventure,                                                                                     \n",
            "      Novel-based}              => {Fantasy}         0.01233333  0.6851852 0.01800000  3.288889    37\n",
            "[18] {Fighting,                                                                                      \n",
            "      Novel-based}              => {Fantasy}         0.01166667  0.6603774 0.01766667  3.169811    35\n",
            "[19] {Card Game,                                                                                     \n",
            "      Novel-based}              => {Fantasy}         0.01000000  0.6250000 0.01600000  3.000000    30\n",
            "[20] {Deduction,                                                                                     \n",
            "      Party Game}               => {Bluffing}        0.01366667  0.6119403 0.02233333  9.179104    41\n",
            "[21] {Bluffing,                                                                                      \n",
            "      Party Game}               => {Deduction}       0.01366667  0.6212121 0.02200000  9.225923    41\n",
            "[22] {Horror,                                                                                        \n",
            "      Miniatures}               => {Fighting}        0.01066667  0.6153846 0.01733333  4.234298    32\n",
            "[23] {Adventure,                                                                                     \n",
            "      Horror}                   => {Fighting}        0.01433333  0.6825397 0.02100000  4.696374    43\n",
            "[24] {Dice,                                                                                          \n",
            "      Fighting}                 => {Fantasy}         0.01000000  0.6000000 0.01666667  2.880000    30\n",
            "[25] {Exploration,                                                                                   \n",
            "      Miniatures}               => {Adventure}       0.02233333  0.8815789 0.02533333  8.786501    67\n",
            "[26] {Adventure,                                                                                     \n",
            "      Miniatures}               => {Exploration}     0.02233333  0.6633663 0.03366667  7.289740    67\n",
            "[27] {Exploration,                                                                                   \n",
            "      Miniatures}               => {Fighting}        0.01900000  0.7500000 0.02533333  5.160550    57\n",
            "[28] {Exploration,                                                                                   \n",
            "      Fighting}                 => {Miniatures}      0.01900000  0.6263736 0.03033333  8.426551    57\n",
            "[29] {Exploration,                                                                                   \n",
            "      Miniatures}               => {Fantasy}         0.01766667  0.6973684 0.02533333  3.347368    53\n",
            "[30] {Adventure,                                                                                     \n",
            "      Miniatures}               => {Fighting}        0.02466667  0.7326733 0.03366667  5.041330    74\n",
            "[31] {Adventure,                                                                                     \n",
            "      Miniatures}               => {Fantasy}         0.02533333  0.7524752 0.03366667  3.611881    76\n",
            "[32] {Fantasy,                                                                                       \n",
            "      Miniatures}               => {Adventure}       0.02533333  0.6440678 0.03933333  6.419280    76\n",
            "[33] {Fighting,                                                                                      \n",
            "      Miniatures}               => {Fantasy}         0.03133333  0.6573427 0.04766667  3.155245    94\n",
            "[34] {Fantasy,                                                                                       \n",
            "      Miniatures}               => {Fighting}        0.03133333  0.7966102 0.03933333  5.481263    94\n",
            "[35] {Exploration,                                                                                   \n",
            "      Fighting}                 => {Adventure}       0.02433333  0.8021978 0.03033333  7.995327    73\n",
            "[36] {Adventure,                                                                                     \n",
            "      Exploration}              => {Fantasy}         0.03000000  0.6382979 0.04700000  3.063830    90\n",
            "[37] {Exploration,                                                                                   \n",
            "      Fantasy}                  => {Adventure}       0.03000000  0.7894737 0.03800000  7.868508    90\n",
            "[38] {Exploration,                                                                                   \n",
            "      Fighting}                 => {Fantasy}         0.02500000  0.8241758 0.03033333  3.956044    75\n",
            "[39] {Exploration,                                                                                   \n",
            "      Fantasy}                  => {Fighting}        0.02500000  0.6578947 0.03800000  4.526799    75\n",
            "[40] {Adventure,                                                                                     \n",
            "      Expansion for Base-game}  => {Fighting}        0.01100000  0.6600000 0.01666667  4.541284    33\n",
            "[41] {Adventure,                                                                                     \n",
            "      Expansion for Base-game}  => {Fantasy}         0.01133333  0.6800000 0.01666667  3.264000    34\n",
            "[42] {Expansion for Base-game,                                                                       \n",
            "      Fighting}                 => {Fantasy}         0.01766667  0.6973684 0.02533333  3.347368    53\n",
            "[43] {Adventure,                                                                                     \n",
            "      Fighting}                 => {Fantasy}         0.03900000  0.8013699 0.04866667  3.846575   117\n",
            "[44] {Adventure,                                                                                     \n",
            "      Fantasy}                  => {Fighting}        0.03900000  0.6125654 0.06366667  4.214900   117\n",
            "[45] {Card Game,                                                                                     \n",
            "      Fighting}                 => {Fantasy}         0.02833333  0.6390977 0.04433333  3.067669    85\n",
            "[46] {Adventure,                                                                                     \n",
            "      Exploration,                                                                                   \n",
            "      Miniatures}               => {Fighting}        0.01633333  0.7313433 0.02233333  5.032179    49\n",
            "[47] {Exploration,                                                                                   \n",
            "      Fighting,                                                                                      \n",
            "      Miniatures}               => {Adventure}       0.01633333  0.8596491 0.01900000  8.567931    49\n",
            "[48] {Adventure,                                                                                     \n",
            "      Fighting,                                                                                      \n",
            "      Miniatures}               => {Exploration}     0.01633333  0.6621622 0.02466667  7.276507    49\n",
            "[49] {Adventure,                                                                                     \n",
            "      Exploration,                                                                                   \n",
            "      Fighting}                 => {Miniatures}      0.01633333  0.6712329 0.02433333  9.030039    49\n",
            "[50] {Adventure,                                                                                     \n",
            "      Exploration,                                                                                   \n",
            "      Miniatures}               => {Fantasy}         0.01700000  0.7611940 0.02233333  3.653731    51\n",
            "[51] {Exploration,                                                                                   \n",
            "      Fantasy,                                                                                       \n",
            "      Miniatures}               => {Adventure}       0.01700000  0.9622642 0.01766667  9.590673    51\n",
            "[52] {Adventure,                                                                                     \n",
            "      Fantasy,                                                                                       \n",
            "      Miniatures}               => {Exploration}     0.01700000  0.6710526 0.02533333  7.374205    51\n",
            "[53] {Exploration,                                                                                   \n",
            "      Fighting,                                                                                      \n",
            "      Miniatures}               => {Fantasy}         0.01566667  0.8245614 0.01900000  3.957895    47\n",
            "[54] {Exploration,                                                                                   \n",
            "      Fantasy,                                                                                       \n",
            "      Miniatures}               => {Fighting}        0.01566667  0.8867925 0.01766667  6.101783    47\n",
            "[55] {Exploration,                                                                                   \n",
            "      Fantasy,                                                                                       \n",
            "      Fighting}                 => {Miniatures}      0.01566667  0.6266667 0.02500000  8.430493    47\n",
            "[56] {Adventure,                                                                                     \n",
            "      Fighting,                                                                                      \n",
            "      Miniatures}               => {Fantasy}         0.02200000  0.8918919 0.02466667  4.281081    66\n",
            "[57] {Adventure,                                                                                     \n",
            "      Fantasy,                                                                                       \n",
            "      Miniatures}               => {Fighting}        0.02200000  0.8684211 0.02533333  5.975374    66\n",
            "[58] {Fantasy,                                                                                       \n",
            "      Fighting,                                                                                      \n",
            "      Miniatures}               => {Adventure}       0.02200000  0.7021277 0.03133333  6.997950    66\n",
            "[59] {Adventure,                                                                                     \n",
            "      Exploration,                                                                                   \n",
            "      Fighting}                 => {Fantasy}         0.02233333  0.9178082 0.02433333  4.405479    67\n",
            "[60] {Adventure,                                                                                     \n",
            "      Exploration,                                                                                   \n",
            "      Fantasy}                  => {Fighting}        0.02233333  0.7444444 0.03000000  5.122324    67\n",
            "[61] {Exploration,                                                                                   \n",
            "      Fantasy,                                                                                       \n",
            "      Fighting}                 => {Adventure}       0.02233333  0.8933333 0.02500000  8.903654    67\n",
            "[62] {Adventure,                                                                                     \n",
            "      Exploration,                                                                                   \n",
            "      Fighting,                                                                                      \n",
            "      Miniatures}               => {Fantasy}         0.01500000  0.9183673 0.01633333  4.408163    45\n",
            "[63] {Adventure,                                                                                     \n",
            "      Exploration,                                                                                   \n",
            "      Fantasy,                                                                                       \n",
            "      Miniatures}               => {Fighting}        0.01500000  0.8823529 0.01700000  6.071236    45\n",
            "[64] {Exploration,                                                                                   \n",
            "      Fantasy,                                                                                       \n",
            "      Fighting,                                                                                      \n",
            "      Miniatures}               => {Adventure}       0.01500000  0.9574468 0.01566667  9.542659    45\n",
            "[65] {Adventure,                                                                                     \n",
            "      Fantasy,                                                                                       \n",
            "      Fighting,                                                                                      \n",
            "      Miniatures}               => {Exploration}     0.01500000  0.6818182 0.02200000  7.492507    45\n",
            "[66] {Adventure,                                                                                     \n",
            "      Exploration,                                                                                   \n",
            "      Fantasy,                                                                                       \n",
            "      Fighting}                 => {Miniatures}      0.01500000  0.6716418 0.02233333  9.035540    45\n"
          ]
        }
      ]
    },
    {
      "cell_type": "code",
      "source": [
        "#Sorting rules by lift and inspecting the top 10 rules\n",
        "sorted_rules <- sort(rules, by = \"lift\", decreasing = TRUE)\n",
        "inspect(head(sorted_rules, 10))"
      ],
      "metadata": {
        "id": "Zi8rTX3nApLu",
        "colab": {
          "base_uri": "https://localhost:8080/"
        },
        "outputId": "5b00c68a-4333-4376-82ae-2fa26a297606"
      },
      "execution_count": 33,
      "outputs": [
        {
          "output_type": "stream",
          "name": "stdout",
          "text": [
            "     lhs                 rhs             support confidence   coverage      lift count\n",
            "[1]  {Zombies}        => {Horror}     0.01100000  0.7333333 0.01500000 12.087912    33\n",
            "[2]  {World War II}   => {Wargame}    0.01233333  0.7708333 0.01600000 11.562500    37\n",
            "[3]  {Murder/Mystery} => {Deduction}  0.01600000  0.7500000 0.02133333 11.138614    48\n",
            "[4]  {Word Game}      => {Party Game} 0.01133333  0.7555556 0.01500000 10.445469    34\n",
            "[5]  {Exploration,                                                                    \n",
            "      Fantasy,                                                                        \n",
            "      Miniatures}     => {Adventure}  0.01700000  0.9622642 0.01766667  9.590673    51\n",
            "[6]  {Exploration,                                                                    \n",
            "      Fantasy,                                                                        \n",
            "      Fighting,                                                                       \n",
            "      Miniatures}     => {Adventure}  0.01500000  0.9574468 0.01566667  9.542659    45\n",
            "[7]  {Bluffing,                                                                       \n",
            "      Party Game}     => {Deduction}  0.01366667  0.6212121 0.02200000  9.225923    41\n",
            "[8]  {Deduction,                                                                      \n",
            "      Party Game}     => {Bluffing}   0.01366667  0.6119403 0.02233333  9.179104    41\n",
            "[9]  {Adventure,                                                                      \n",
            "      Exploration,                                                                    \n",
            "      Fantasy,                                                                        \n",
            "      Fighting}       => {Miniatures} 0.01500000  0.6716418 0.02233333  9.035540    45\n",
            "[10] {Adventure,                                                                      \n",
            "      Exploration,                                                                    \n",
            "      Fighting}       => {Miniatures} 0.01633333  0.6712329 0.02433333  9.030039    49\n"
          ]
        }
      ]
    },
    {
      "cell_type": "code",
      "source": [
        "#Generating association rules with a minimum support and higher confidence\n",
        "rules_high_conf <- apriori(basket_transactions,\n",
        "                 parameter = list(supp = 0.01, conf = 0.8))\n",
        "\n",
        "#Inspecting the generated rules\n",
        "inspect(rules_high_conf)"
      ],
      "metadata": {
        "colab": {
          "base_uri": "https://localhost:8080/"
        },
        "id": "gyYWhcjRYny4",
        "outputId": "2888c421-092f-44b3-aeba-4bf7b8edae1d"
      },
      "execution_count": 34,
      "outputs": [
        {
          "output_type": "stream",
          "name": "stdout",
          "text": [
            "Apriori\n",
            "\n",
            "Parameter specification:\n",
            " confidence minval smax arem  aval originalSupport maxtime support minlen\n",
            "        0.8    0.1    1 none FALSE            TRUE       5    0.01      1\n",
            " maxlen target  ext\n",
            "     10  rules TRUE\n",
            "\n",
            "Algorithmic control:\n",
            " filter tree heap memopt load sort verbose\n",
            "    0.1 TRUE TRUE  FALSE TRUE    2    TRUE\n",
            "\n",
            "Absolute minimum support count: 30 \n",
            "\n",
            "set item appearances ...[0 item(s)] done [0.00s].\n",
            "set transactions ...[82 item(s), 3000 transaction(s)] done [0.00s].\n",
            "sorting and recoding items ... [59 item(s)] done [0.00s].\n",
            "creating transaction tree ... done [0.00s].\n",
            "checking subsets of size 1 2 3 4 5 done [0.00s].\n",
            "writing ... [16 rule(s)] done [0.00s].\n",
            "creating S4 object  ... done [0.00s].\n",
            "     lhs                    rhs                  support confidence   coverage     lift count\n",
            "[1]  {Space Exploration} => {Science Fiction} 0.03100000  0.9393939 0.03300000 8.288770    93\n",
            "[2]  {Exploration,                                                                           \n",
            "      Miniatures}        => {Adventure}       0.02233333  0.8815789 0.02533333 8.786501    67\n",
            "[3]  {Exploration,                                                                           \n",
            "      Fighting}          => {Adventure}       0.02433333  0.8021978 0.03033333 7.995327    73\n",
            "[4]  {Exploration,                                                                           \n",
            "      Fighting}          => {Fantasy}         0.02500000  0.8241758 0.03033333 3.956044    75\n",
            "[5]  {Adventure,                                                                             \n",
            "      Fighting}          => {Fantasy}         0.03900000  0.8013699 0.04866667 3.846575   117\n",
            "[6]  {Exploration,                                                                           \n",
            "      Fighting,                                                                              \n",
            "      Miniatures}        => {Adventure}       0.01633333  0.8596491 0.01900000 8.567931    49\n",
            "[7]  {Exploration,                                                                           \n",
            "      Fantasy,                                                                               \n",
            "      Miniatures}        => {Adventure}       0.01700000  0.9622642 0.01766667 9.590673    51\n",
            "[8]  {Exploration,                                                                           \n",
            "      Fighting,                                                                              \n",
            "      Miniatures}        => {Fantasy}         0.01566667  0.8245614 0.01900000 3.957895    47\n",
            "[9]  {Exploration,                                                                           \n",
            "      Fantasy,                                                                               \n",
            "      Miniatures}        => {Fighting}        0.01566667  0.8867925 0.01766667 6.101783    47\n",
            "[10] {Adventure,                                                                             \n",
            "      Fighting,                                                                              \n",
            "      Miniatures}        => {Fantasy}         0.02200000  0.8918919 0.02466667 4.281081    66\n",
            "[11] {Adventure,                                                                             \n",
            "      Fantasy,                                                                               \n",
            "      Miniatures}        => {Fighting}        0.02200000  0.8684211 0.02533333 5.975374    66\n",
            "[12] {Adventure,                                                                             \n",
            "      Exploration,                                                                           \n",
            "      Fighting}          => {Fantasy}         0.02233333  0.9178082 0.02433333 4.405479    67\n",
            "[13] {Exploration,                                                                           \n",
            "      Fantasy,                                                                               \n",
            "      Fighting}          => {Adventure}       0.02233333  0.8933333 0.02500000 8.903654    67\n",
            "[14] {Adventure,                                                                             \n",
            "      Exploration,                                                                           \n",
            "      Fighting,                                                                              \n",
            "      Miniatures}        => {Fantasy}         0.01500000  0.9183673 0.01633333 4.408163    45\n",
            "[15] {Adventure,                                                                             \n",
            "      Exploration,                                                                           \n",
            "      Fantasy,                                                                               \n",
            "      Miniatures}        => {Fighting}        0.01500000  0.8823529 0.01700000 6.071236    45\n",
            "[16] {Exploration,                                                                           \n",
            "      Fantasy,                                                                               \n",
            "      Fighting,                                                                              \n",
            "      Miniatures}        => {Adventure}       0.01500000  0.9574468 0.01566667 9.542659    45\n"
          ]
        }
      ]
    },
    {
      "cell_type": "code",
      "source": [
        "#Sortting rules by lift and inspect the top 10 rules\n",
        "sorted_rules_high_conf <- sort(rules_high_conf, by = \"lift\", decreasing = TRUE)\n",
        "inspect(head(sorted_rules_high_conf, 10))"
      ],
      "metadata": {
        "colab": {
          "base_uri": "https://localhost:8080/"
        },
        "id": "5iZ6tEGxZh-e",
        "outputId": "696cb418-209d-4e86-c129-074d33d60266"
      },
      "execution_count": 35,
      "outputs": [
        {
          "output_type": "stream",
          "name": "stdout",
          "text": [
            "     lhs                    rhs                  support confidence   coverage     lift count\n",
            "[1]  {Exploration,                                                                           \n",
            "      Fantasy,                                                                               \n",
            "      Miniatures}        => {Adventure}       0.01700000  0.9622642 0.01766667 9.590673    51\n",
            "[2]  {Exploration,                                                                           \n",
            "      Fantasy,                                                                               \n",
            "      Fighting,                                                                              \n",
            "      Miniatures}        => {Adventure}       0.01500000  0.9574468 0.01566667 9.542659    45\n",
            "[3]  {Exploration,                                                                           \n",
            "      Fantasy,                                                                               \n",
            "      Fighting}          => {Adventure}       0.02233333  0.8933333 0.02500000 8.903654    67\n",
            "[4]  {Exploration,                                                                           \n",
            "      Miniatures}        => {Adventure}       0.02233333  0.8815789 0.02533333 8.786501    67\n",
            "[5]  {Exploration,                                                                           \n",
            "      Fighting,                                                                              \n",
            "      Miniatures}        => {Adventure}       0.01633333  0.8596491 0.01900000 8.567931    49\n",
            "[6]  {Space Exploration} => {Science Fiction} 0.03100000  0.9393939 0.03300000 8.288770    93\n",
            "[7]  {Exploration,                                                                           \n",
            "      Fighting}          => {Adventure}       0.02433333  0.8021978 0.03033333 7.995327    73\n",
            "[8]  {Exploration,                                                                           \n",
            "      Fantasy,                                                                               \n",
            "      Miniatures}        => {Fighting}        0.01566667  0.8867925 0.01766667 6.101783    47\n",
            "[9]  {Adventure,                                                                             \n",
            "      Exploration,                                                                           \n",
            "      Fantasy,                                                                               \n",
            "      Miniatures}        => {Fighting}        0.01500000  0.8823529 0.01700000 6.071236    45\n",
            "[10] {Adventure,                                                                             \n",
            "      Fantasy,                                                                               \n",
            "      Miniatures}        => {Fighting}        0.02200000  0.8684211 0.02533333 5.975374    66\n"
          ]
        }
      ]
    },
    {
      "cell_type": "code",
      "source": [
        "#Generating association rules with a higher support and minimum confidence\n",
        "rules_high_supp <- apriori(basket_transactions,\n",
        "                 parameter = list(supp = 0.05, conf = 0.6))\n",
        "\n",
        "#Inspecting the generated rules\n",
        "inspect(rules_high_supp)"
      ],
      "metadata": {
        "colab": {
          "base_uri": "https://localhost:8080/"
        },
        "id": "tTHMKnzoZxEP",
        "outputId": "c7f46d08-87db-44b6-a45c-38c9ed6ec57f"
      },
      "execution_count": 36,
      "outputs": [
        {
          "output_type": "stream",
          "name": "stdout",
          "text": [
            "Apriori\n",
            "\n",
            "Parameter specification:\n",
            " confidence minval smax arem  aval originalSupport maxtime support minlen\n",
            "        0.6    0.1    1 none FALSE            TRUE       5    0.05      1\n",
            " maxlen target  ext\n",
            "     10  rules TRUE\n",
            "\n",
            "Algorithmic control:\n",
            " filter tree heap memopt load sort verbose\n",
            "    0.1 TRUE TRUE  FALSE TRUE    2    TRUE\n",
            "\n",
            "Absolute minimum support count: 150 \n",
            "\n",
            "set item appearances ...[0 item(s)] done [0.00s].\n",
            "set transactions ...[82 item(s), 3000 transaction(s)] done [0.00s].\n",
            "sorting and recoding items ... [21 item(s)] done [0.00s].\n",
            "creating transaction tree ... done [0.00s].\n",
            "checking subsets of size 1 2 done [0.00s].\n",
            "writing ... [2 rule(s)] done [0.00s].\n",
            "creating S4 object  ... done [0.00s].\n",
            "    lhs            rhs       support    confidence coverage  lift     count\n",
            "[1] {Adventure} => {Fantasy} 0.06366667 0.6345515  0.1003333 3.045847 191  \n",
            "[2] {Fighting}  => {Fantasy} 0.08733333 0.6009174  0.1453333 2.884404 262  \n"
          ]
        }
      ]
    },
    {
      "cell_type": "code",
      "source": [],
      "metadata": {
        "id": "JxNifxb7aMMt"
      },
      "execution_count": null,
      "outputs": []
    }
  ]
}