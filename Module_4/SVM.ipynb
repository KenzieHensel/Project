{
 "cells": [
  {
   "cell_type": "code",
   "execution_count": null,
   "metadata": {},
   "outputs": [],
   "source": [
    "import pandas as pd\n",
    "from sklearn.model_selection import train_test_split"
   ]
  },
  {
   "cell_type": "code",
   "execution_count": null,
   "metadata": {},
   "outputs": [],
   "source": [
    "# Load the dataset\n",
    "data = pd.read_csv('game_details_with_counts.csv')\n",
    "\n",
    "# Create a binary label for high ratings\n",
    "data['high_rating'] = (data['average_rating'] >= 7.5).astype(int)\n",
    "\n",
    "# Select numeric features and target variable\n",
    "features = ['weight', 'min_age', 'category_count', 'mechanic_count']\n",
    "X = data[features]\n",
    "y = data['high_rating']\n",
    "\n",
    "# Split the dataset into training and testing sets\n",
    "X_train, X_test, y_train, y_test = train_test_split(X, y, test_size=0.2, random_state=42)\n",
    "\n",
    "# Save sample data for display\n",
    "train_sample = X_train.head(5)\n",
    "test_sample = X_test.head(5)\n"
   ]
  }
 ],
 "metadata": {
  "language_info": {
   "name": "python"
  }
 },
 "nbformat": 4,
 "nbformat_minor": 2
}
