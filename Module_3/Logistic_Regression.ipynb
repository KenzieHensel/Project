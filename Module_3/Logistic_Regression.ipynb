{
 "cells": [
  {
   "cell_type": "code",
   "execution_count": 32,
   "metadata": {},
   "outputs": [],
   "source": [
    "import pandas as pd\n",
    "import numpy as np\n",
    "from sklearn.model_selection import train_test_split\n",
    "from sklearn.preprocessing import StandardScaler, FunctionTransformer\n",
    "from sklearn.linear_model import LogisticRegression\n",
    "from sklearn.naive_bayes import MultinomialNB\n",
    "from sklearn.metrics import accuracy_score, confusion_matrix"
   ]
  },
  {
   "cell_type": "code",
   "execution_count": 33,
   "metadata": {},
   "outputs": [],
   "source": [
    "# Loading dataset\n",
    "df = pd.read_csv(\"game_details_with_counts.csv\")\n",
    "\n",
    "# Ensuring 'cult_classic' is binary (1 for cult classic, 0 for not)\n",
    "# Cult classic if 'average_rating' > 8 and 'users_rated' < 5000\n",
    "df['cult_classic'] = (df['average_rating'] > 8) & (df['users_rated'] < 5000)\n",
    "\n",
    "# Selecting features and target\n",
    "X = df[['average_rating', 'users_rated']]  # Features for classification\n",
    "y = df['cult_classic']  # Target label"
   ]
  },
  {
   "cell_type": "code",
   "execution_count": 34,
   "metadata": {},
   "outputs": [],
   "source": [
    "# Splitting the dataset into training and testing sets (70% training, 30% testing)\n",
    "X_train, X_test, y_train, y_test = train_test_split(X, y, test_size=0.3, random_state=42)\n",
    "\n",
    "# Applying log transformation to ensure positive values for MultinomialNB and scaling for LogisticRegression\n",
    "log_transformer = FunctionTransformer(func=lambda x: np.log1p(x), validate=False)\n",
    "X_train_log = log_transformer.fit_transform(X_train)\n",
    "X_test_log = log_transformer.transform(X_test)\n"
   ]
  },
  {
   "cell_type": "code",
   "execution_count": 35,
   "metadata": {},
   "outputs": [],
   "source": [
    "# Logistic Regression \n",
    "logreg = LogisticRegression()\n",
    "logreg.fit(X_train_log, y_train)\n",
    "y_pred_logreg = logreg.predict(X_test_log)\n",
    "\n",
    "# Multinomial Naïve Bayes\n",
    "nb = MultinomialNB()\n",
    "nb.fit(X_train_log, y_train)\n",
    "y_pred_nb = nb.predict(X_test_log)\n",
    "\n",
    "\n"
   ]
  },
  {
   "cell_type": "code",
   "execution_count": 36,
   "metadata": {},
   "outputs": [
    {
     "name": "stdout",
     "output_type": "stream",
     "text": [
      "Logistic Regression Accuracy: 0.9344444444444444\n",
      "\n",
      "Logistic Regression Confusion Matrix:\n",
      "[[838   0]\n",
      " [ 59   3]]\n"
     ]
    }
   ],
   "source": [
    "# Evaluating the models\n",
    "print(\"Logistic Regression Accuracy:\", accuracy_score(y_test, y_pred_logreg))\n",
    "print(\"\\nLogistic Regression Confusion Matrix:\")\n",
    "print(confusion_matrix(y_test, y_pred_logreg))\n"
   ]
  },
  {
   "cell_type": "code",
   "execution_count": 37,
   "metadata": {},
   "outputs": [
    {
     "name": "stdout",
     "output_type": "stream",
     "text": [
      "Naïve Bayes Accuracy: 0.9311111111111111\n",
      "\n",
      "Naïve Bayes Confusion Matrix:\n",
      "[[838   0]\n",
      " [ 62   0]]\n"
     ]
    }
   ],
   "source": [
    "# Evaluating the models\n",
    "print(\"Naïve Bayes Accuracy:\", accuracy_score(y_test, y_pred_nb))\n",
    "print(\"\\nNaïve Bayes Confusion Matrix:\")\n",
    "print(confusion_matrix(y_test, y_pred_nb))"
   ]
  }
 ],
 "metadata": {
  "kernelspec": {
   "display_name": "Python 3",
   "language": "python",
   "name": "python3"
  },
  "language_info": {
   "codemirror_mode": {
    "name": "ipython",
    "version": 3
   },
   "file_extension": ".py",
   "mimetype": "text/x-python",
   "name": "python",
   "nbconvert_exporter": "python",
   "pygments_lexer": "ipython3",
   "version": "3.12.0"
  }
 },
 "nbformat": 4,
 "nbformat_minor": 2
}
