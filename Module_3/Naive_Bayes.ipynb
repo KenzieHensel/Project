{
 "cells": [
  {
   "cell_type": "code",
   "execution_count": 39,
   "metadata": {},
   "outputs": [],
   "source": [
    "# Importing necessary libraries\n",
    "import pandas as pd\n",
    "import numpy as np\n",
    "from sklearn.model_selection import train_test_split\n",
    "from sklearn.preprocessing import StandardScaler, LabelEncoder, Binarizer\n",
    "from sklearn.naive_bayes import MultinomialNB, GaussianNB, BernoulliNB\n",
    "from sklearn.metrics import confusion_matrix, accuracy_score, ConfusionMatrixDisplay\n",
    "import matplotlib.pyplot as plt\n",
    "from sklearn.preprocessing import OneHotEncoder\n",
    "from sklearn.metrics import confusion_matrix, accuracy_score, classification_report\n"
   ]
  },
  {
   "cell_type": "code",
   "execution_count": 40,
   "metadata": {},
   "outputs": [],
   "source": [
    "# Loading data\n",
    "data = pd.read_csv('game_details_with_counts.csv')\n"
   ]
  },
  {
   "cell_type": "code",
   "execution_count": 41,
   "metadata": {},
   "outputs": [],
   "source": [
    "# Creating the 'cult_classic' feature\n",
    "# Cult classic: high ratings (> 8) and high number of ratings (> 1000)\n",
    "data['cult_classic'] = ((data['users_rated'] > 1000) & \n",
    "                        (data['average_rating'] > 8.0)).astype(int)\n",
    "\n",
    "# Creating the 'game_night_game' feature\n",
    "# Game night game: more than 4 players and high ratings (> 7)\n",
    "data['game_night_game'] = ((data['max_players'] >= 4) & (data['average_rating'] > 7)).astype(int)\n",
    "\n",
    "# Creating the 'high_complexity_game' feature\n",
    "# High complexity game: high weight (> 3.5), long playtime (> 60 mins), more than 4 categories, and more than 4 mechanics\n",
    "data['high_complexity_game'] = ((data['weight'] > 3.5) & \n",
    "                                 (data['max_playtime'] > 60) & \n",
    "                                 (data['category_count'] > 4) &\n",
    "                                 (data['mechanic_count'] > 4)).astype(int)\n",
    "\n"
   ]
  },
  {
   "cell_type": "code",
   "execution_count": 42,
   "metadata": {},
   "outputs": [
    {
     "name": "stdout",
     "output_type": "stream",
     "text": [
      "Index(['name', 'year_published', 'min_players', 'max_players', 'min_playtime',\n",
      "       'max_playtime', 'min_age', 'categories', 'mechanics', 'users_rated',\n",
      "       'average_rating', 'weight', 'category_count', 'mechanic_count',\n",
      "       'cult_classic', 'game_night_game', 'high_complexity_game'],\n",
      "      dtype='object')\n"
     ]
    }
   ],
   "source": [
    "print(data.columns)"
   ]
  },
  {
   "cell_type": "code",
   "execution_count": 49,
   "metadata": {},
   "outputs": [],
   "source": [
    "# Multinomial Naïve Bayes - Target: high_complexity_game\n",
    "# Features: category_count, mechanic_count, min_players, max_players, min_playtime, max_playtime\n",
    "multinomial_features = data[['weight', 'category_count', 'mechanic_count', 'min_players', 'max_players', 'min_playtime', 'max_playtime']].values\n",
    "X_train_m, X_test_m, y_train_m, y_test_m = train_test_split(\n",
    "    multinomial_features, data['high_complexity_game'], test_size=0.3, random_state=42\n",
    ")\n"
   ]
  },
  {
   "cell_type": "code",
   "execution_count": 54,
   "metadata": {},
   "outputs": [],
   "source": [
    "# Gaussian Naïve Bayes - Target: cult_classic\n",
    "# Features: year_published, weight, users_rated, max_playtime, category_count\n",
    "gaussian_features = data[['weight', 'category_count', 'mechanic_count', 'min_players', 'max_players', 'min_playtime', 'max_playtime', 'users_rated', 'average_rating']].values\n",
    "scaler = StandardScaler()\n",
    "gaussian_features_scaled = scaler.fit_transform(gaussian_features)\n",
    "\n",
    "# Splitting dataset for Gaussian Naïve Bayes\n",
    "X_train_g, X_test_g, y_train_g, y_test_g = train_test_split(\n",
    "    gaussian_features_scaled, data['cult_classic'], test_size=0.3, random_state=42\n",
    ")"
   ]
  },
  {
   "cell_type": "code",
   "execution_count": 51,
   "metadata": {},
   "outputs": [],
   "source": [
    "# Bernoulli Naïve Bayes - Target: game_night_game\n",
    "# Features: max_players and average_rating\n",
    "bernoulli_features = data[['weight', 'category_count', 'mechanic_count', 'min_players', 'max_players', 'min_playtime', 'max_playtime']].values\n",
    "X_train_b, X_test_b, y_train_b, y_test_b = train_test_split(\n",
    "    bernoulli_features, data['high_complexity_game'], test_size=0.3, random_state=42\n",
    ")"
   ]
  },
  {
   "cell_type": "code",
   "execution_count": 50,
   "metadata": {},
   "outputs": [
    {
     "name": "stdout",
     "output_type": "stream",
     "text": [
      "Multinomial Naïve Bayes Results (High Complexity Game):\n",
      "Confusion Matrix:\n",
      " [[801  68]\n",
      " [ 18  13]]\n",
      "Accuracy: 0.9044444444444445\n",
      "Classification Report:\n",
      "               precision    recall  f1-score   support\n",
      "\n",
      "           0       0.98      0.92      0.95       869\n",
      "           1       0.16      0.42      0.23        31\n",
      "\n",
      "    accuracy                           0.90       900\n",
      "   macro avg       0.57      0.67      0.59       900\n",
      "weighted avg       0.95      0.90      0.92       900\n",
      "\n"
     ]
    }
   ],
   "source": [
    "# Multinomial Naïve Bayes\n",
    "mnb = MultinomialNB()\n",
    "mnb.fit(X_train_m, y_train_m)\n",
    "y_pred_m = mnb.predict(X_test_m)\n",
    "print(\"Multinomial Naïve Bayes Results (High Complexity Game):\")\n",
    "print(\"Confusion Matrix:\\n\", confusion_matrix(y_test_m, y_pred_m))\n",
    "print(\"Accuracy:\", accuracy_score(y_test_m, y_pred_m))\n",
    "print(\"Classification Report:\\n\", classification_report(y_test_m, y_pred_m))\n"
   ]
  },
  {
   "cell_type": "code",
   "execution_count": 55,
   "metadata": {},
   "outputs": [
    {
     "name": "stdout",
     "output_type": "stream",
     "text": [
      "\n",
      "Gaussian Naïve Bayes Results (Cult Classic):\n",
      "Confusion Matrix:\n",
      " [[748  51]\n",
      " [ 31  70]]\n",
      "Accuracy: 0.9088888888888889\n",
      "Classification Report:\n",
      "               precision    recall  f1-score   support\n",
      "\n",
      "           0       0.96      0.94      0.95       799\n",
      "           1       0.58      0.69      0.63       101\n",
      "\n",
      "    accuracy                           0.91       900\n",
      "   macro avg       0.77      0.81      0.79       900\n",
      "weighted avg       0.92      0.91      0.91       900\n",
      "\n"
     ]
    }
   ],
   "source": [
    "# Gaussian Naïve Bayes\n",
    "gnb = GaussianNB()\n",
    "gnb.fit(X_train_g, y_train_g)\n",
    "y_pred_g = gnb.predict(X_test_g)\n",
    "print(\"\\nGaussian Naïve Bayes Results (Cult Classic):\")\n",
    "print(\"Confusion Matrix:\\n\", confusion_matrix(y_test_g, y_pred_g))\n",
    "print(\"Accuracy:\", accuracy_score(y_test_g, y_pred_g))\n",
    "print(\"Classification Report:\\n\", classification_report(y_test_g, y_pred_g))\n"
   ]
  },
  {
   "cell_type": "code",
   "execution_count": 53,
   "metadata": {},
   "outputs": [
    {
     "name": "stdout",
     "output_type": "stream",
     "text": [
      "\n",
      "Bernoulli Naïve Bayes Results (High Complexity Game):\n",
      "Confusion Matrix:\n",
      " [[869   0]\n",
      " [ 31   0]]\n",
      "Accuracy: 0.9655555555555555\n",
      "Classification Report:\n",
      "               precision    recall  f1-score   support\n",
      "\n",
      "           0       0.97      1.00      0.98       869\n",
      "           1       0.00      0.00      0.00        31\n",
      "\n",
      "    accuracy                           0.97       900\n",
      "   macro avg       0.48      0.50      0.49       900\n",
      "weighted avg       0.93      0.97      0.95       900\n",
      "\n"
     ]
    },
    {
     "name": "stderr",
     "output_type": "stream",
     "text": [
      "C:\\Users\\kenzi\\AppData\\Roaming\\Python\\Python312\\site-packages\\sklearn\\metrics\\_classification.py:1497: UndefinedMetricWarning: Precision is ill-defined and being set to 0.0 in labels with no predicted samples. Use `zero_division` parameter to control this behavior.\n",
      "  _warn_prf(average, modifier, f\"{metric.capitalize()} is\", len(result))\n",
      "C:\\Users\\kenzi\\AppData\\Roaming\\Python\\Python312\\site-packages\\sklearn\\metrics\\_classification.py:1497: UndefinedMetricWarning: Precision is ill-defined and being set to 0.0 in labels with no predicted samples. Use `zero_division` parameter to control this behavior.\n",
      "  _warn_prf(average, modifier, f\"{metric.capitalize()} is\", len(result))\n",
      "C:\\Users\\kenzi\\AppData\\Roaming\\Python\\Python312\\site-packages\\sklearn\\metrics\\_classification.py:1497: UndefinedMetricWarning: Precision is ill-defined and being set to 0.0 in labels with no predicted samples. Use `zero_division` parameter to control this behavior.\n",
      "  _warn_prf(average, modifier, f\"{metric.capitalize()} is\", len(result))\n"
     ]
    }
   ],
   "source": [
    "# Bernoulli Naïve Bayes\n",
    "bnb = BernoulliNB()\n",
    "bnb.fit(X_train_b, y_train_b)\n",
    "y_pred_b = bnb.predict(X_test_b)\n",
    "print(\"\\nBernoulli Naïve Bayes Results (High Complexity Game):\")\n",
    "print(\"Confusion Matrix:\\n\", confusion_matrix(y_test_b, y_pred_b))\n",
    "print(\"Accuracy:\", accuracy_score(y_test_b, y_pred_b))\n",
    "print(\"Classification Report:\\n\", classification_report(y_test_b, y_pred_b))\n"
   ]
  },
  {
   "cell_type": "code",
   "execution_count": null,
   "metadata": {},
   "outputs": [],
   "source": []
  }
 ],
 "metadata": {
  "kernelspec": {
   "display_name": "Python 3",
   "language": "python",
   "name": "python3"
  },
  "language_info": {
   "codemirror_mode": {
    "name": "ipython",
    "version": 3
   },
   "file_extension": ".py",
   "mimetype": "text/x-python",
   "name": "python",
   "nbconvert_exporter": "python",
   "pygments_lexer": "ipython3",
   "version": "3.12.0"
  }
 },
 "nbformat": 4,
 "nbformat_minor": 2
}
